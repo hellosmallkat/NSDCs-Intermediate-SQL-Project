{
  "nbformat": 4,
  "nbformat_minor": 0,
  "metadata": {
    "colab": {
      "provenance": [],
      "include_colab_link": true
    },
    "kernelspec": {
      "name": "python3",
      "display_name": "Python 3"
    },
    "language_info": {
      "name": "python"
    }
  },
  "cells": [
    {
      "cell_type": "markdown",
      "metadata": {
        "id": "view-in-github",
        "colab_type": "text"
      },
      "source": [
        "<a href=\"https://colab.research.google.com/github/hellosmallkat/NSDCs-Intermediate-SQL-Project/blob/main/Finished_version_Intermediate_SQL_Queries.ipynb\" target=\"_parent\"><img src=\"https://colab.research.google.com/assets/colab-badge.svg\" alt=\"Open In Colab\"/></a>"
      ]
    },
    {
      "cell_type": "markdown",
      "source": [
        "\n",
        "\n",
        "<h1 align=\"center\">\n",
        "    NSDC Data Science Projects\n",
        "</h1>\n",
        "\n",
        "<h2 align=\"center\">\n",
        "    Project: Intermediate SQL Queries - #2\n",
        "</h2>\n",
        "\n",
        "<h3 align=\"center\">\n",
        "    Name: hellosmallkat\n",
        "</h3>\n"
      ],
      "metadata": {
        "id": "tt70feOIfcQ0"
      }
    },
    {
      "cell_type": "markdown",
      "source": [
        "**Project Description:**\n",
        "\n",
        "To work with the New York City Airbnb dataset in this project, you'll need to create and connect to an SQLite database as seen in the steps within this notebook.\n",
        "\n",
        "**Key Features**\n",
        "\n",
        "- Practical SQL exercises with step-by-step instructions.\n",
        "- Real-world datasets for hands-on experience.\n",
        "- Comprehensive explanations of SQL queries and concepts.\n",
        "- Interactive coding examples and challenges.\n",
        "\n",
        "**Dataset**\n",
        "- You can find the New York City Airbnb dataset on Kaggle: [New York City Airbnb Dataset](https://www.kaggle.com/datasets/dgomonov/new-york-city-airbnb-open-data)\n",
        "- Download the dataset from the provided link and save it as 'AB_NYC_2019.csv' on your computer.\n",
        "- On colab, click on the \"Upload\" button and select the 'AB_NYC_2019.csv' file from your local computer."
      ],
      "metadata": {
        "id": "35fgH_hXgAUU"
      }
    },
    {
      "cell_type": "markdown",
      "source": [
        "## Introduction\n",
        "This SQL project is designed for those who want to practice writing SQL queries using a real-world dataset. In this project, we will work with the New York City Airbnb dataset. The main goal is to practice SQL syntax and intermediate data analysis tasks. Make sure to complete the code where there is a 'TODO' sign. Hints are provided along the way.\n",
        "\n",
        "## Table of Contents\n",
        "1. [Libraries and Database Setup](#database-setup)\n",
        "2. [Loading the Dataset](#loading-dataset)\n",
        "3. [SQL Queries](#sql-queries)\n",
        "4. [Closing Connection](#closing-connection)\n",
        "5. [Summary of Intermediate SQL Commands](#summary-commands)\n",
        "\n",
        "# Section 1: Libraries and Database Setup <a name=\"database-setup\"></a>\n",
        "\n",
        "### Task 1.1: Import Libraries\n",
        "Let's start by importing the necessary libraries.\n"
      ],
      "metadata": {
        "id": "I4xHzjkqigQk"
      }
    },
    {
      "cell_type": "code",
      "source": [
        "# Connect to Google Drive\n",
        "from google.colab import drive\n",
        "drive.mount('/content/drive')"
      ],
      "metadata": {
        "colab": {
          "base_uri": "https://localhost:8080/"
        },
        "id": "vuwWeEnIiirc",
        "outputId": "8527f3fb-ac45-4b33-fd76-2fff651d46ef"
      },
      "execution_count": 3,
      "outputs": [
        {
          "output_type": "stream",
          "name": "stdout",
          "text": [
            "Mounted at /content/drive\n"
          ]
        }
      ]
    },
    {
      "cell_type": "code",
      "source": [
        "import pandas as pd\n",
        "import numpy as np\n",
        "import sqlite3"
      ],
      "metadata": {
        "id": "NnR6oXHNG6Ff"
      },
      "execution_count": 4,
      "outputs": []
    },
    {
      "cell_type": "markdown",
      "source": [
        "### Task 1.2: Connect to the Database\n",
        "\n",
        "Next, establish a connection to the SQLite database named 'airbnb.db'.\n",
        "Use the sqlite3 library to create a connection object and store it in a variable called 'conn'.\n"
      ],
      "metadata": {
        "id": "qSERoLykixcz"
      }
    },
    {
      "cell_type": "code",
      "source": [
        "# Completed\n",
        "\n",
        "# Connect to the SQLite database\n",
        "conn = sqlite3.connect('airbnb.db')\n",
        "cursor = conn.cursor()"
      ],
      "metadata": {
        "id": "8G9tDLd2iyq7"
      },
      "execution_count": 5,
      "outputs": []
    },
    {
      "cell_type": "markdown",
      "source": [
        "# Section 2: Loading the Dataset <a name=\"loading-dataset\"></a>"
      ],
      "metadata": {
        "id": "gCE_OEk5BrF2"
      }
    },
    {
      "cell_type": "markdown",
      "source": [
        "### Task 2.1: Load the Dataset\n",
        "- You will work with the 'listings' table from the New York City Airbnb dataset.\n",
        "- Load the dataset from the CSV file 'AB_NYC_2019.csv' into a DataFrame named 'df'.\n",
        "- Then, import the DataFrame into the 'listings' table in the database using the to_sql() method.\n",
        "\n",
        "\\\\\n",
        "\n",
        "Hint: Use the read_csv() method from pandas to read the CSV file.\n"
      ],
      "metadata": {
        "id": "_bXjXLHli0aE"
      }
    },
    {
      "cell_type": "code",
      "source": [
        "# Completed\n",
        "\n",
        "# Load the dataset into the SQLite database\n",
        "data_path = 'AB_NYC_2019.csv'\n",
        "df = pd.read_csv(data_path)\n",
        "df.to_sql('listings', conn, if_exists='replace', index=False)"
      ],
      "metadata": {
        "id": "blwNI_PEi5FT",
        "colab": {
          "base_uri": "https://localhost:8080/"
        },
        "outputId": "e3a6e02a-b32f-4d75-bcbb-5a69246f28bb"
      },
      "execution_count": 6,
      "outputs": [
        {
          "output_type": "execute_result",
          "data": {
            "text/plain": [
              "48895"
            ]
          },
          "metadata": {},
          "execution_count": 6
        }
      ]
    },
    {
      "cell_type": "markdown",
      "source": [
        "# Section 3: Intermediate SQL Tasks <a name=\"sql-queries\"></a>\n",
        "\n",
        "Query the database: Write SQL queries to analyze the data in the SQLite database. You can use the sqlite3 library to execute the queries and fetch the results."
      ],
      "metadata": {
        "id": "1j3xgaK4Ck3S"
      }
    },
    {
      "cell_type": "markdown",
      "source": [
        "### Task 3.1: Using Subquery for Aggregation\n",
        "- Find listings with a price greater than or equal to the maximum price of entire home/apartment listings."
      ],
      "metadata": {
        "id": "eKaLdB8Fi7Bh"
      }
    },
    {
      "cell_type": "code",
      "source": [
        "# TODO: Complete the query by adding the SELECT, WHERE, and LIMIT statement\n",
        "\n",
        "query = \"\"\"\n",
        "SELECT id, name, neighbourhood_group, price\n",
        "FROM listings\n",
        "WHERE (\n",
        "    SELECT MAX(price) AS max_price\n",
        "    FROM listings\n",
        "    WHERE room_type = 'Entire home/apt'\n",
        ")\n",
        "\"\"\"\n",
        "#FROM listings\n",
        "#-- Select specific columns (id, name, neighbourhood_group, price) from listings\n",
        "# insert SELECT statement here\n",
        "#SELECT id, name, neighbourhood_group, price\n",
        "# insert FROM statement here\n",
        "#-- where the price is greater than or equal to the maximum price among entire home/apartment listings\n",
        "# insert WHERE statement here\n",
        "\n",
        "#-- Limit the results to display only the top 5 listings\n",
        "# add the LIMIT"
      ],
      "metadata": {
        "id": "gqe3KmtUCr9V"
      },
      "execution_count": 15,
      "outputs": []
    },
    {
      "cell_type": "code",
      "source": [
        "# Completed\n",
        "\n",
        "result = pd.read_sql_query(query, conn)\n",
        "print(\"\\nExample 2 - Using Subquery for Aggregation:\")\n",
        "print(result)"
      ],
      "metadata": {
        "colab": {
          "base_uri": "https://localhost:8080/"
        },
        "id": "6fib2hIqjKWr",
        "outputId": "922f5fdf-7796-45ed-f040-39e46821942c"
      },
      "execution_count": 16,
      "outputs": [
        {
          "output_type": "stream",
          "name": "stdout",
          "text": [
            "\n",
            "Example 2 - Using Subquery for Aggregation:\n",
            "             id                                               name  \\\n",
            "0          2539                 Clean & quiet apt home by the park   \n",
            "1          2595                              Skylit Midtown Castle   \n",
            "2          3647                THE VILLAGE OF HARLEM....NEW YORK !   \n",
            "3          3831                    Cozy Entire Floor of Brownstone   \n",
            "4          5022   Entire Apt: Spacious Studio/Loft by central park   \n",
            "...         ...                                                ...   \n",
            "48890  36484665    Charming one bedroom - newly renovated rowhouse   \n",
            "48891  36485057      Affordable room in Bushwick/East Williamsburg   \n",
            "48892  36485431            Sunny Studio at Historical Neighborhood   \n",
            "48893  36485609               43rd St. Time Square-cozy single bed   \n",
            "48894  36487245  Trendy duplex in the very heart of Hell's Kitchen   \n",
            "\n",
            "      neighbourhood_group  price  \n",
            "0                Brooklyn    149  \n",
            "1               Manhattan    225  \n",
            "2               Manhattan    150  \n",
            "3                Brooklyn     89  \n",
            "4               Manhattan     80  \n",
            "...                   ...    ...  \n",
            "48890            Brooklyn     70  \n",
            "48891            Brooklyn     40  \n",
            "48892           Manhattan    115  \n",
            "48893           Manhattan     55  \n",
            "48894           Manhattan     90  \n",
            "\n",
            "[48895 rows x 4 columns]\n"
          ]
        }
      ]
    },
    {
      "cell_type": "markdown",
      "source": [
        "### Task 3.2: Using CTE for Clarity\n",
        "- Create a [Common Table Expression (CTE)](https://learnsql.com/blog/what-is-common-table-expression/) for high-priced listings and retrieve details."
      ],
      "metadata": {
        "id": "0O4Nfb9yC61D"
      }
    },
    {
      "cell_type": "code",
      "source": [
        "# TODO: Complete the query by first finishing the CTE query  by adding the WHERE statement. Then complete the following SELECT AND FROM statements.\n",
        "\n",
        "query = \"\"\"\n",
        "\n",
        "\n",
        "WITH high_price_listings AS (\n",
        "    SELECT *\n",
        "    FROM listings\n",
        "    WHERE price > 500\n",
        "\n",
        ")\n",
        "SELECT id, name, neighbourhood_group, price\n",
        "FROM high_price_listings\n",
        "\n",
        "\n",
        "-- Limit the results to display only the top 5 listings\n",
        "LIMIT 5\n",
        "\"\"\"\n",
        "#-- Create a common table expression (CTE) to select high-priced listings greater than 500\n",
        "# insert WHERE the price is greater than 500\n",
        "#-- Select specific columns (id, name, neighbourhood_group, price) from high-priced listings\n",
        "# insert SELECT statement\n",
        "# insert FROM statement\n",
        "# insert SELECT statement\n",
        "# insert FROM statement"
      ],
      "metadata": {
        "id": "4fJa4Bt6C7Nw"
      },
      "execution_count": 17,
      "outputs": []
    },
    {
      "cell_type": "code",
      "source": [
        "# Completed\n",
        "\n",
        "result = pd.read_sql_query(query, conn)\n",
        "print(\"\\nExample 3 - Using CTE for Clarity:\")\n",
        "print(result)"
      ],
      "metadata": {
        "colab": {
          "base_uri": "https://localhost:8080/"
        },
        "id": "9IJ5ReZblaE5",
        "outputId": "2a33f64d-5c61-4955-de6a-5d873757d804"
      },
      "execution_count": 18,
      "outputs": [
        {
          "output_type": "stream",
          "name": "stdout",
          "text": [
            "\n",
            "Example 3 - Using CTE for Clarity:\n",
            "       id                                   name neighbourhood_group  price\n",
            "0   19601    perfect for a family or small group            Brooklyn    800\n",
            "1   68974     Unique spacious loft on the Bowery           Manhattan    575\n",
            "2   89427                   The Brooklyn Waverly            Brooklyn    650\n",
            "3  103311      2 BR w/ Terrace @ Box House Hotel            Brooklyn    599\n",
            "4  174966  Luxury 2Bed/2.5Bath Central Park View           Manhattan   2000\n"
          ]
        }
      ]
    },
    {
      "cell_type": "markdown",
      "source": [
        "### Task 3.3: Using GROUP BY and HAVING\n",
        "-  Count the number of listings in each neighbourhood_group with more than 1000 listings."
      ],
      "metadata": {
        "id": "uULLKoO0DEou"
      }
    },
    {
      "cell_type": "code",
      "source": [
        "# TODO: Complete the GROUP_BY and the HAVING COUNT statement to 1000 listings\n",
        "\n",
        "query = \"\"\"\n",
        "SELECT neighbourhood_group, COUNT(*) AS num_listings\n",
        "FROM listings\n",
        "GROUP BY neighbourhood_group\n",
        "HAVING num_listings > 1000\n",
        "\"\"\"\n",
        "# insert GROUP_BY statement\n",
        "# insert HAVING COUNT statement\n"
      ],
      "metadata": {
        "id": "EDnyQuz1DDin"
      },
      "execution_count": 19,
      "outputs": []
    },
    {
      "cell_type": "code",
      "source": [
        "# Completed\n",
        "\n",
        "result = pd.read_sql_query(query, conn)\n",
        "print(\"\\nExample 4 - Using GROUP BY and HAVING:\")\n",
        "print(result)"
      ],
      "metadata": {
        "colab": {
          "base_uri": "https://localhost:8080/"
        },
        "id": "ZGIUx6pn1ZpM",
        "outputId": "99fc50ac-823f-4d2d-e49a-a66079530f42"
      },
      "execution_count": 20,
      "outputs": [
        {
          "output_type": "stream",
          "name": "stdout",
          "text": [
            "\n",
            "Example 4 - Using GROUP BY and HAVING:\n",
            "  neighbourhood_group  num_listings\n",
            "0               Bronx          1091\n",
            "1            Brooklyn         20104\n",
            "2           Manhattan         21661\n",
            "3              Queens          5666\n"
          ]
        }
      ]
    },
    {
      "cell_type": "markdown",
      "source": [
        "### Task 3.4: Using [CASE Statements](https://www.w3schools.com/sql/sql_case.asp)\n",
        "- Calculate the count of listings in each neighborhood group categorized into three price ranges: cheap, moderate, and expensive.\n"
      ],
      "metadata": {
        "id": "yPvuIfq7DMhj"
      }
    },
    {
      "cell_type": "code",
      "source": [
        "# TODO: Complete the third case switch statement for expensive_listings and insert GROUP BY statement\n",
        "\n",
        "query = \"\"\"\n",
        "\n",
        "-- Select the neighborhood_group and use conditional aggregation to count listings in price ranges\n",
        "SELECT neighbourhood_group,\n",
        "       SUM(CASE WHEN price <= 100 THEN 1 ELSE 0 END) AS cheap_listings,\n",
        "       SUM(CASE WHEN price > 100 AND price <= 200 THEN 1 ELSE 0 END) AS moderate_listings,\n",
        "       SUM(CASE WHEN price > 200 THEN 1 ELSE 0 END) AS expensive_listings\n",
        "FROM listings\n",
        "\n",
        "GROUP BY neighbourhood_group\n",
        "\"\"\"\n",
        "# insert SUM WHEN price > 200 THEN 1 ELSE 0 and label AS expensive_listings\n",
        "#-- Group the data by neighborhood_group to get counts for each group\n",
        "# insert GROUP BY statement"
      ],
      "metadata": {
        "id": "U1r32q1rDOil"
      },
      "execution_count": 21,
      "outputs": []
    },
    {
      "cell_type": "code",
      "source": [
        "# Completed\n",
        "\n",
        "result = pd.read_sql_query(query, conn)\n",
        "print(\"\\nExample 5 - Using CASE Statements:\")\n",
        "print(result)"
      ],
      "metadata": {
        "colab": {
          "base_uri": "https://localhost:8080/"
        },
        "id": "s93h67wkDR6r",
        "outputId": "c8b59a2b-c064-4796-fcad-667d5f8c7b84"
      },
      "execution_count": 22,
      "outputs": [
        {
          "output_type": "stream",
          "name": "stdout",
          "text": [
            "\n",
            "Example 5 - Using CASE Statements:\n",
            "  neighbourhood_group  cheap_listings  moderate_listings  expensive_listings\n",
            "0               Bronx             865                181                  45\n",
            "1            Brooklyn           11771               6278                2055\n",
            "2           Manhattan            6921               8803                5937\n",
            "3              Queens            4101               1243                 322\n",
            "4       Staten Island             270                 78                  25\n"
          ]
        }
      ]
    },
    {
      "cell_type": "markdown",
      "source": [
        "### Task 3.5: Using [Self-Join](https://www.w3schools.com/sql/sql_join_self.asp) for Data Comparison\n",
        "- Compare the average price of each neighborhood's listings with the overall average price, highlighting neighborhoods with prices higher than the overall average."
      ],
      "metadata": {
        "id": "nIWy051Y2j7h"
      }
    },
    {
      "cell_type": "code",
      "source": [
        "# TODO: Complete the CTE WITH statement, insert SELECT statement, and insert the self-inner join (becareful with parenthesis grouping -- there are two AS assignments)\n",
        "\n",
        "query = \"\"\"\n",
        "-- Create a common table expression (CTE) to calculate the average prices for each neighborhood\n",
        "\n",
        "\n",
        "WITH avg_prices AS (\n",
        "    SELECT neighbourhood, AVG(price) AS avg_price\n",
        "    FROM listings\n",
        "    GROUP BY neighbourhood\n",
        "),\n",
        "\n",
        "overall_avg AS (\n",
        "    SELECT AVG(price) AS avg_price\n",
        "    FROM listings\n",
        ")\n",
        "\n",
        "\n",
        "SELECT a.neighbourhood, a.avg_price, b.avg_price AS overall_avg\n",
        "FROM avg_prices AS a\n",
        "\n",
        "\n",
        "INNER JOIN avg_prices AS b ON 1 = 1\n",
        "\n",
        "WHERE a.avg_price > b.avg_price\n",
        "\"\"\"\n",
        "#-- Select the neighborhood, its average price, and the overall average price\n",
        "# insert SELECT statement of columns with their associated table name\n",
        "#-- Self-join with a subquery to retrieve the overall average price\n",
        "# insert INNER JOIN of the AVG(price) save AS avg_price FROM listings and then save it all AS b\n",
        "#-- Filter for neighborhoods with average prices higher than the overall average"
      ],
      "metadata": {
        "id": "gygsx68g2YEX"
      },
      "execution_count": 39,
      "outputs": []
    },
    {
      "cell_type": "code",
      "source": [
        "# Completed\n",
        "\n",
        "result = pd.read_sql_query(query, conn)\n",
        "print(\"Example 7 - Using Self-Join for Data Comparison:\")\n",
        "print(result)"
      ],
      "metadata": {
        "colab": {
          "base_uri": "https://localhost:8080/"
        },
        "id": "BOZr1Ty02YHk",
        "outputId": "1e9afdd8-4e72-4f13-95f9-a17818485c75"
      },
      "execution_count": 40,
      "outputs": [
        {
          "output_type": "stream",
          "name": "stdout",
          "text": [
            "Example 7 - Using Self-Join for Data Comparison:\n",
            "      neighbourhood  avg_price  overall_avg\n",
            "0          Allerton  87.595238    67.250000\n",
            "1          Allerton  87.595238    81.764706\n",
            "2          Allerton  87.595238    75.428571\n",
            "3          Allerton  87.595238    87.470588\n",
            "4          Allerton  87.595238    77.125000\n",
            "...             ...        ...          ...\n",
            "24304      Woodside  85.097872    69.571429\n",
            "24305      Woodside  85.097872    80.555556\n",
            "24306      Woodside  85.097872    71.500000\n",
            "24307      Woodside  85.097872    67.170455\n",
            "24308      Woodside  85.097872    60.090909\n",
            "\n",
            "[24309 rows x 3 columns]\n"
          ]
        }
      ]
    },
    {
      "cell_type": "markdown",
      "source": [
        "# Section 4: Closing the Database Connection <a name=\"closing-connection\"></a>"
      ],
      "metadata": {
        "id": "CyaxVtAuDyDd"
      }
    },
    {
      "cell_type": "markdown",
      "source": [
        "### Task 4.1: Close the Cursor and Database Connection\n",
        "- It's good practice to close the cursor and the database connection when you're done working with the database to free up system resources and maintain proper connection management.\n"
      ],
      "metadata": {
        "id": "nFKyd0DbD4Ns"
      }
    },
    {
      "cell_type": "code",
      "source": [
        "# Completed\n",
        "\n",
        "# Make sure to include these lines of code at the end of your script to properly close the cursor and database connection.\n",
        "cursor.close()\n",
        "conn.close()"
      ],
      "metadata": {
        "id": "_z_H6ZsmD2GX"
      },
      "execution_count": 41,
      "outputs": []
    },
    {
      "cell_type": "markdown",
      "source": [
        "# Section 5: Summary of Basic SQL Commands <a name=\"summary-commands\"></a>"
      ],
      "metadata": {
        "id": "5tOYpl9rVXV2"
      }
    },
    {
      "cell_type": "markdown",
      "source": [
        "In this project, you have practiced various SQL commands and tasks. Below is a summary of the basic SQL commands used:\n",
        "\n",
        "**Task 1.2: Connect to the Database**\n",
        "- Established a connection to the SQLite database.\n",
        "\n",
        "**Task 2.1: Load the Dataset**\n",
        "- Loaded the dataset into a DataFrame.\n",
        "- Imported the DataFrame into the database.\n",
        "\n",
        "**Task 3.1: Using Subquery for Aggregation**\n",
        "- SQL Commands: SELECT, FROM, WHERE, Subquery, MAX(), LIMIT\n",
        "- Description: Find listings with a price greater than or equal to the maximum price of entire home/apartment listings.\n",
        "\n",
        "**Task 3.2: Using CTE for Clarity**\n",
        "- SQL Commands: WITH, Common Table Expression (CTE), SELECT, FROM, LIMIT\n",
        "- Description: Create a Common Table Expression (CTE) for high-priced listings and retrieve details.\n",
        "\n",
        "**Task 3.3: Using GROUP BY and HAVING**\n",
        "- SQL Commands: SELECT, COUNT(), AS, FROM, GROUP BY, HAVING\n",
        "- Description: Count the number of listings in each neighbourhood_group with more than 1000 listings.\n",
        "\n",
        "**Task 3.4: Using CASE Statements**\n",
        "- SQL Commands: SELECT, SUM(), CASE, WHEN, THEN, ELSE, END, AS, FROM, GROUP BY\n",
        "- Description: Calculate the count of listings in each neighborhood group categorized into three price ranges: cheap, moderate, and expensive.\n",
        "\n",
        "**Task 3.5: Using Self-Join for Data Comparison**\n",
        "- SQL Commands: WITH, Common Table Expression (CTE), SELECT, AVG(), AS, INNER JOIN, ON, Self-Join, WHERE\n",
        "- Description: Compare the average price of each neighborhood's listings with the overall average price, highlighting neighborhoods with prices higher than the overall average.\n",
        "\n",
        "**Task 4.1: Close the Cursor and Database Connection**\n",
        "- Closed the cursor and the database connection.\n",
        "\n",
        "This summary provides an overview of the intermediate SQL commands used in this project. You can use this as a reference for future SQL projects and data analysis tasks."
      ],
      "metadata": {
        "id": "wS_xxvBKVTha"
      }
    }
  ]
}
